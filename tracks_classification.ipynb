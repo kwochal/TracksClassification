{
 "cells": [
  {
   "cell_type": "markdown",
   "metadata": {},
   "source": [
    "The problem addressed in this project is the classification of musical tracks into different levels of energy using a classification model. Specifically, it aims to determine whether a track is low-energy, moderately energetic, or highly energetic. The solution to this problem is based on data regarding various attributes of the track, such as key, loudness, speechiness, acousticness, instrumentalness, valence, danceability, tempo, and also the musical genre to which the track can be categorized."
   ]
  },
  {
   "cell_type": "code",
   "execution_count": 1,
   "metadata": {},
   "outputs": [],
   "source": [
    "import spotipy\n",
    "from spotipy.oauth2 import SpotifyClientCredentials\n",
    "import csv  \n",
    "import pandas as pd\n",
    "import seaborn as sns\n",
    "import numpy as np\n",
    "import matplotlib.pyplot as plt\n",
    "from sklearn.model_selection import train_test_split\n",
    "from sklearn.metrics import classification_report, ConfusionMatrixDisplay\n",
    "from sklearn.svm import SVC\n",
    "from sklearn.linear_model import LogisticRegression\n",
    "from sklearn.ensemble import RandomForestClassifier\n",
    "from sklearn.neighbors import KNeighborsClassifier\n",
    "from sklearn.tree import DecisionTreeClassifier\n",
    "from sklearn.preprocessing import StandardScaler\n",
    "from sklearn.model_selection import GridSearchCV\n",
    "from keys import CLIENT_ID, CLIENT_SECRET"
   ]
  },
  {
   "cell_type": "markdown",
   "metadata": {},
   "source": [
    "<h5>Collecting data</h5>"
   ]
  },
  {
   "cell_type": "markdown",
   "metadata": {},
   "source": [
    "To acquire data using Spotify API, the following methods will be needed."
   ]
  },
  {
   "cell_type": "code",
   "execution_count": null,
   "metadata": {},
   "outputs": [],
   "source": [
    "def acquire_data(playlist_link, filename):\n",
    "    #authorization and creation of spotify object:\n",
    "    client_credentials_manager = SpotifyClientCredentials(client_id=CLIENT_ID, client_secret=CLIENT_SECRET)\n",
    "    sp = spotipy.Spotify(client_credentials_manager = client_credentials_manager, requests_timeout=10,retries=10)\n",
    "\n",
    "    playlist_URI = playlist_link.split(\"/\")[-1].split(\"?\")[0]\n",
    "    tracks = [x for x in get_all_tracks(playlist_URI, sp)]  #collecting all songs from given playlist\n",
    "\n",
    "    with open(filename, 'a', encoding='UTF8', newline='') as f:\n",
    "\n",
    "        fieldnames=['key', 'loudness', 'speechiness', 'acousticness', 'instrumentalness',\n",
    "                        'valence', 'genre', 'energy', 'danceability' ,'tempo']\n",
    "        \n",
    "        writer = csv.DictWriter(f, fieldnames=fieldnames)\n",
    "        writer.writeheader()\n",
    "\n",
    "        for track in tracks:\n",
    "            try:\n",
    "                track_uri = track[\"track\"][\"uri\"]\n",
    "                \n",
    "                artist_uri = track[\"track\"][\"artists\"][0][\"uri\"]\n",
    "                artist_info = sp.artist(artist_uri)\n",
    "                artist_genres = artist_info[\"genres\"]\n",
    "\n",
    "                audio_features = sp.audio_features(track_uri)[0]\n",
    "                #saving audio features and genre of each track\n",
    "                row=create_row(audio_features, artist_genres[0])  #we'll take the primary genre of the artist\n",
    "                writer.writerow(row)\n",
    "\n",
    "            except (IndexError, TypeError): #tracks with missing data will be skipped\n",
    "                pass"
   ]
  },
  {
   "cell_type": "code",
   "execution_count": null,
   "metadata": {},
   "outputs": [],
   "source": [
    "def get_all_tracks(playlist_URI, sp):\n",
    "    results = sp.playlist_tracks(playlist_URI)\n",
    "    tracks = results['items']\n",
    "    while results['next']:\n",
    "        results = sp.next(results)\n",
    "        tracks.extend(results['items'])\n",
    "    return tracks"
   ]
  },
  {
   "cell_type": "code",
   "execution_count": null,
   "metadata": {},
   "outputs": [],
   "source": [
    "def create_row(audio_features,genre):\n",
    "    row={}\n",
    "    row['key'] = audio_features['key']\n",
    "    row['loudness'] = audio_features['loudness']\n",
    "    row['speechiness'] = audio_features['speechiness']\n",
    "    row['acousticness'] = audio_features['acousticness']\n",
    "    row['instrumentalness'] = audio_features['instrumentalness']\n",
    "    row['valence'] = audio_features['valence']\n",
    "    row['energy'] = audio_features['energy']\n",
    "    row['danceability'] = audio_features['danceability']\n",
    "    row['tempo'] = audio_features['tempo']\n",
    "    row['genre'] = genre\n",
    "    return row"
   ]
  }
 ],
 "metadata": {
  "kernelspec": {
   "display_name": "Python 3",
   "language": "python",
   "name": "python3"
  },
  "language_info": {
   "codemirror_mode": {
    "name": "ipython",
    "version": 3
   },
   "file_extension": ".py",
   "mimetype": "text/x-python",
   "name": "python",
   "nbconvert_exporter": "python",
   "pygments_lexer": "ipython3",
   "version": "3.11.5"
  }
 },
 "nbformat": 4,
 "nbformat_minor": 2
}
